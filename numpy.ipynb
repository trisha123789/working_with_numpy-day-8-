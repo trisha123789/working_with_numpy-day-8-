{
  "cells": [
    {
      "cell_type": "markdown",
      "metadata": {
        "id": "view-in-github",
        "colab_type": "text"
      },
      "source": [
        "<a href=\"https://colab.research.google.com/github/trisha123789/working_with_numpy-day-8-/blob/main/numpy.ipynb\" target=\"_parent\"><img src=\"https://colab.research.google.com/assets/colab-badge.svg\" alt=\"Open In Colab\"/></a>"
      ]
    },
    {
      "cell_type": "code",
      "execution_count": 365,
      "metadata": {
        "id": "vOMC7WQD_xM8",
        "colab": {
          "base_uri": "https://localhost:8080/"
        },
        "outputId": "8bf4f54b-1420-4535-a2f0-415a7ec008f0"
      },
      "outputs": [
        {
          "output_type": "execute_result",
          "data": {
            "text/plain": [
              "np.float64(2.718281828459045)"
            ]
          },
          "metadata": {},
          "execution_count": 365
        }
      ],
      "source": [
        "import numpy as np  #creating a neuron\n",
        "import matplotlib.pyplot as plt\n",
        "def sigmoid(x):\n",
        "  return 1/np.exp(-1)\n",
        "input = np.array([[0,0],[0,1],[1,0],[1,1]])\n",
        "weights = np.array([0.3,0.4])\n",
        "bias = -0.3\n",
        "output = sigmoid(np.dot(input,weights) + bias)\n",
        "output"
      ]
    },
    {
      "cell_type": "code",
      "execution_count": null,
      "metadata": {
        "colab": {
          "base_uri": "https://localhost:8080/"
        },
        "id": "0WC0rV_ZDdOi",
        "outputId": "b38d02bc-3a53-47c8-f6fa-e75078bc688b"
      },
      "outputs": [
        {
          "data": {
            "text/plain": [
              "np.float64(2.718281828459045)"
            ]
          },
          "execution_count": 17,
          "metadata": {},
          "output_type": "execute_result"
        }
      ],
      "source": [
        "output"
      ]
    },
    {
      "cell_type": "markdown",
      "source": [
        "REGRESSION METRICS"
      ],
      "metadata": {
        "id": "HfpTZRii6wVR"
      }
    },
    {
      "cell_type": "code",
      "source": [
        "import numpy as np\n",
        "\n",
        "# Example data\n",
        "y_true = np.array([4, 8, 12, 16, 20], dtype='float')\n",
        "y_pred = np.array([3.8, 8.2, 11.5, 16.3, 19.9], dtype='float')\n",
        "\n",
        "# Functions\n",
        "def mse(y_true, y_pred):\n",
        "    return np.mean((y_true - y_pred) ** 2)\n",
        "\n",
        "def mae(y_true, y_pred):\n",
        "    return np.mean(np.abs(y_true - y_pred))\n",
        "\n",
        "def smse(y_true, y_pred):\n",
        "    return mse(y_true, y_pred) / np.var(y_true)\n",
        "\n",
        "def r2_score(y_true, y_pred):\n",
        "    ss_total = np.sum((y_true - np.mean(y_true)) ** 2)\n",
        "    ss_residual = np.sum((y_true - y_pred) ** 2)\n",
        "    return 1 - (ss_residual / ss_total)\n",
        "\n",
        "def adjusted_r2(y_true, y_pred, p):\n",
        "    n = len(y_true)\n",
        "    r2 = r2_score(y_true, y_pred)\n",
        "    return 1 - (1 - r2) * ((n - 1) / (n - p - 1))\n",
        "\n",
        "# Calculate all metrics\n",
        "mse_val = mse(y_true, y_pred)\n",
        "mae_val = mae(y_true, y_pred)\n",
        "smse_val = smse(y_true, y_pred)\n",
        "r2_val = r2_score(y_true, y_pred)\n",
        "adj_r2_val = adjusted_r2(y_true, y_pred, p=1)  # p = number of predictors\n",
        "\n",
        "# Print results\n",
        "print(\"Mean Squared Error (MSE):\", mse_val)\n",
        "print(\"Mean Absolute Error (MAE):\", mae_val)\n",
        "print(\"Scaled MSE (SMSE):\", smse_val)\n",
        "print(\"R² Score:\", r2_val)\n",
        "print(\"Adjusted R² Score:\", adj_r2_val)"
      ],
      "metadata": {
        "colab": {
          "base_uri": "https://localhost:8080/"
        },
        "id": "xXEQnCN76zaE",
        "outputId": "51478793-987d-4b0b-996e-f89c353b993b"
      },
      "execution_count": 270,
      "outputs": [
        {
          "output_type": "stream",
          "name": "stdout",
          "text": [
            "Mean Squared Error (MSE): 0.0860000000000001\n",
            "Mean Absolute Error (MAE): 0.26000000000000034\n",
            "Scaled MSE (SMSE): 0.0026875000000000033\n",
            "R² Score: 0.9973125\n",
            "Adjusted R² Score: 0.9964166666666667\n"
          ]
        }
      ]
    },
    {
      "cell_type": "markdown",
      "source": [
        "Linear Regression using numpy(no inbuild method)"
      ],
      "metadata": {
        "id": "YUHYzris7j1V"
      }
    },
    {
      "cell_type": "code",
      "source": [
        "X = np.array([2,4,6,8,10],dtype='float')\n",
        "y = np.array([4,8,12,16,20],dtype='float')\n",
        "w = 0.0\n",
        "lr = 0.01\n",
        "b= 0.0\n",
        "epoches  =1000\n",
        "for _ in range(epoches):\n",
        "  y_pred = w *  X + b\n",
        "  dw =  (-2/len(X))* np.sum(X * (y - y_pred))\n",
        "  db = (-2/len(X)) *np.sum(y-y_pred)\n",
        "  w = w - (lr*dw)\n",
        "  b =  b- (lr * db)\n",
        "\n",
        "print(\"Weight : \",w)\n",
        "print(\"bias \", b)\n",
        "y_pred  = w * X + b\n",
        "print(y_pred)\n",
        "plt.scatter(X,y,color='Red')\n",
        "plt.plot(X,y_pred,color='Blue')"
      ],
      "metadata": {
        "colab": {
          "base_uri": "https://localhost:8080/",
          "height": 499
        },
        "id": "e_FWiy9G7rFp",
        "outputId": "7eb187f3-0282-414f-ece0-23c0fd7972ab"
      },
      "execution_count": 271,
      "outputs": [
        {
          "output_type": "stream",
          "name": "stdout",
          "text": [
            "Weight :  1.9989700632168124\n",
            "bias  0.007522231576277883\n",
            "[ 4.00546236  8.00340248 12.00134261 15.99928274 19.99722286]\n"
          ]
        },
        {
          "output_type": "execute_result",
          "data": {
            "text/plain": [
              "[<matplotlib.lines.Line2D at 0x791bf1680aa0>]"
            ]
          },
          "metadata": {},
          "execution_count": 271
        },
        {
          "output_type": "display_data",
          "data": {
            "text/plain": [
              "<Figure size 640x480 with 1 Axes>"
            ],
            "image/png": "[encoded data removed]"
          },
          "metadata": {}
        }
      ]
    },
    {
      "cell_type": "code",
      "source": [
        "import numpy as np\n",
        "\n",
        "# Example dataset (class labels)\n",
        "y = np.array([0, 0, 1, 1, 1, 0, 1, 0])\n",
        "\n",
        "# --- Entropy Function ---\n",
        "def entropy(y):\n",
        "    classes, counts = np.unique(y, return_counts=True)\n",
        "    probs = counts / len(y)\n",
        "    ent = -np.sum(probs * np.log2(probs))\n",
        "    return ent\n",
        "\n",
        "# --- Gini Index Function ---\n",
        "def gini_index(y):\n",
        "    classes, counts = np.unique(y, return_counts=True)\n",
        "    probs = counts / len(y)\n",
        "    gini = 1 - np.sum(probs ** 2)\n",
        "    return gini\n",
        "\n",
        "# Calculate both\n",
        "entropy_val = entropy(y)\n",
        "gini_val = gini_index(y)\n",
        "\n",
        "# Print results\n",
        "print(\"Dataset:\", y)\n",
        "print(\"Class probabilities:\", np.unique(y, return_counts=True)[1] / len(y))\n",
        "print(\"Entropy:\", round(entropy_val, 4))\n",
        "print(\"Gini Index:\", round(gini_val, 4))\n"
      ],
      "metadata": {
        "colab": {
          "base_uri": "https://localhost:8080/"
        },
        "id": "D3yDu7BFC3CC",
        "outputId": "99cc1e28-37bd-4aca-a1b2-2036da9d0b7f"
      },
      "execution_count": 361,
      "outputs": [
        {
          "output_type": "stream",
          "name": "stdout",
          "text": [
            "Dataset: [0 0 1 1 1 0 1 0]\n",
            "Class probabilities: [0.5 0.5]\n",
            "Entropy: 1.0\n",
            "Gini Index: 0.5\n"
          ]
        }
      ]
    },
    {
      "cell_type": "markdown",
      "source": [
        "Logistic regression using numpy"
      ],
      "metadata": {
        "id": "E4swY1tKFXzp"
      }
    },
    {
      "cell_type": "code",
      "source": [
        "def sigmoid(z):\n",
        "  return 1 / (1 + np.exp(-z))\n",
        "w =0,0\n",
        "lr = 0.1\n",
        "b =0.0\n",
        "epoches = 1000\n",
        "x = np.array([[1],[2],[3],[4]])\n",
        "y = np.array([1,2,3,4])\n",
        "for _in range(epoches):\n",
        "  y_pred = w * X +b\n",
        "  dw = (1/len(X)) * np.sum(X* (y-y_pred))\n",
        "  db = (1/len(X)) * np.sum(y-y_pred)\n",
        "  w = w - (lr * dw)\n",
        "  b = b - (lr * db)\n",
        "print(\"logistic prediction :\",sigmoid(w * X + b))"
      ],
      "metadata": {
        "id": "2ZqrsKP7FWfE"
      },
      "execution_count": 364,
      "outputs": []
    },
    {
      "cell_type": "markdown",
      "metadata": {
        "id": "dbK4ybzXD_gp"
      },
      "source": [
        "3 DIMENSIONAL MATRIX"
      ]
    },
    {
      "cell_type": "code",
      "execution_count": null,
      "metadata": {
        "id": "NRePpfw9DxZn"
      },
      "outputs": [],
      "source": [
        "\n",
        "arr = np.array([[[1,2],[3,4]],[[5,6],[7,8]]])"
      ]
    },
    {
      "cell_type": "code",
      "execution_count": null,
      "metadata": {
        "colab": {
          "base_uri": "https://localhost:8080/"
        },
        "id": "9c7J5AzbEPOl",
        "outputId": "5f31213c-7350-412a-fd3c-5104b18d40cd"
      },
      "outputs": [
        {
          "data": {
            "text/plain": [
              "array([[[1, 2],\n",
              "        [3, 4]],\n",
              "\n",
              "       [[5, 6],\n",
              "        [7, 8]]])"
            ]
          },
          "execution_count": 19,
          "metadata": {},
          "output_type": "execute_result"
        }
      ],
      "source": [
        "arr"
      ]
    },
    {
      "cell_type": "code",
      "execution_count": null,
      "metadata": {
        "colab": {
          "base_uri": "https://localhost:8080/"
        },
        "id": "61GHMLogESHN",
        "outputId": "5408bb26-0c19-4847-ddb4-9cabc44daa79"
      },
      "outputs": [
        {
          "name": "stdout",
          "output_type": "stream",
          "text": [
            "3\n"
          ]
        }
      ],
      "source": [
        "print(arr.ndim)"
      ]
    },
    {
      "cell_type": "markdown",
      "metadata": {
        "id": "EZQuDVwdE1QD"
      },
      "source": [
        "creating four dimensional array"
      ]
    },
    {
      "cell_type": "code",
      "execution_count": null,
      "metadata": {
        "id": "aM4a0aRyErPe"
      },
      "outputs": [],
      "source": [
        "arr_4_dim = np.array([[[[1,2],[4,5]], [[4,7],[8,9]]],     [[[14,6],[7,8]] ,[[9,0],[1,4]]]])"
      ]
    },
    {
      "cell_type": "code",
      "execution_count": null,
      "metadata": {
        "colab": {
          "base_uri": "https://localhost:8080/"
        },
        "id": "-3BAGXWJFXim",
        "outputId": "6cbb9724-99ce-44ba-b5df-aef1ebfa0fb2"
      },
      "outputs": [
        {
          "name": "stdout",
          "output_type": "stream",
          "text": [
            "4\n"
          ]
        }
      ],
      "source": [
        "print(arr_4_dim.ndim)"
      ]
    },
    {
      "cell_type": "markdown",
      "metadata": {
        "id": "teMYBUEhFdm8"
      },
      "source": [
        "Using zeroes\n"
      ]
    },
    {
      "cell_type": "code",
      "execution_count": null,
      "metadata": {
        "colab": {
          "base_uri": "https://localhost:8080/"
        },
        "id": "8ONer82PFaD9",
        "outputId": "89a45da6-6061-41a5-91be-6cd53c029a65"
      },
      "outputs": [
        {
          "name": "stdout",
          "output_type": "stream",
          "text": [
            "[[0. 0. 0.]\n",
            " [0. 0. 0.]]\n"
          ]
        }
      ],
      "source": [
        "zeroes = np.zeros((2,3))\n",
        "print(zeroes)"
      ]
    },
    {
      "cell_type": "markdown",
      "metadata": {
        "id": "5eGxgFsdFmWk"
      },
      "source": [
        "using in build ones function"
      ]
    },
    {
      "cell_type": "code",
      "execution_count": null,
      "metadata": {
        "colab": {
          "base_uri": "https://localhost:8080/"
        },
        "id": "XUyWRw4NFj_R",
        "outputId": "beeb60f2-b3f0-4e2a-a700-ad9b41981be0"
      },
      "outputs": [
        {
          "name": "stdout",
          "output_type": "stream",
          "text": [
            "[[1. 1. 1. 1. 1.]\n",
            " [1. 1. 1. 1. 1.]\n",
            " [1. 1. 1. 1. 1.]\n",
            " [1. 1. 1. 1. 1.]]\n"
          ]
        }
      ],
      "source": [
        "ones = np.ones((4,5))\n",
        "print(ones)"
      ]
    },
    {
      "cell_type": "markdown",
      "metadata": {
        "id": "mO6N1LcrF0Xd"
      },
      "source": [
        "RANDOM FUNCTION"
      ]
    },
    {
      "cell_type": "code",
      "execution_count": null,
      "metadata": {
        "id": "2yFbc_E4FvwC"
      },
      "outputs": [],
      "source": [
        "rand = np.random.random((3,3))"
      ]
    },
    {
      "cell_type": "code",
      "execution_count": null,
      "metadata": {
        "colab": {
          "base_uri": "https://localhost:8080/"
        },
        "id": "tuwlSTptF7J3",
        "outputId": "77f06dad-1316-4f79-d6c3-c61d7777154f"
      },
      "outputs": [
        {
          "data": {
            "text/plain": [
              "array([[0.30533971, 0.57689985, 0.60911049],\n",
              "       [0.2643695 , 0.29275543, 0.83196064],\n",
              "       [0.17978271, 0.54615542, 0.43390498]])"
            ]
          },
          "execution_count": 27,
          "metadata": {},
          "output_type": "execute_result"
        }
      ],
      "source": [
        "rand"
      ]
    },
    {
      "cell_type": "markdown",
      "metadata": {
        "id": "ESgtN2MUGAGA"
      },
      "source": [
        "creating identity matrix"
      ]
    },
    {
      "cell_type": "code",
      "execution_count": null,
      "metadata": {
        "id": "g5sWrxQgF72C"
      },
      "outputs": [],
      "source": [
        "identity = np.eye(3)"
      ]
    },
    {
      "cell_type": "code",
      "execution_count": null,
      "metadata": {
        "colab": {
          "base_uri": "https://localhost:8080/"
        },
        "id": "uDc5CXTwGE6-",
        "outputId": "b7118bf2-2a8f-4661-8ed2-33cccac6e4ea"
      },
      "outputs": [
        {
          "name": "stdout",
          "output_type": "stream",
          "text": [
            "[[1. 0. 0.]\n",
            " [0. 1. 0.]\n",
            " [0. 0. 1.]]\n"
          ]
        }
      ],
      "source": [
        "print(identity)"
      ]
    },
    {
      "cell_type": "markdown",
      "metadata": {
        "id": "e8_cMUNEGvin"
      },
      "source": [
        "USING ARANGE"
      ]
    },
    {
      "cell_type": "code",
      "execution_count": null,
      "metadata": {
        "colab": {
          "base_uri": "https://localhost:8080/"
        },
        "id": "1f85Zhn8GGGS",
        "outputId": "d747f805-5b43-45f1-9973-aced97e6e4ee"
      },
      "outputs": [
        {
          "name": "stdout",
          "output_type": "stream",
          "text": [
            "[1 3 5 7 9]\n"
          ]
        }
      ],
      "source": [
        "arr = np.arange(1,10,2)\n",
        "print(arr)"
      ]
    },
    {
      "cell_type": "markdown",
      "metadata": {
        "id": "qXrpjGSUHUWo"
      },
      "source": [
        "LINEAR REGRESSION USING ONLY NUMPY NO INBUILD METHODS"
      ]
    },
    {
      "cell_type": "code",
      "execution_count": 222,
      "metadata": {
        "id": "OPyWe4GIGz_c"
      },
      "outputs": [],
      "source": [
        "X = np.array([2,4,6,8,10],dtype='float')\n",
        "y = np.array([4,8,12,16,20],dtype='float')"
      ]
    },
    {
      "cell_type": "code",
      "execution_count": 223,
      "metadata": {
        "id": "ynb2JWNYHdxT"
      },
      "outputs": [],
      "source": [
        "w = 0.0\n",
        "lr = 0.0\n",
        "b= 0.0\n",
        "epoches  =1000"
      ]
    },
    {
      "cell_type": "code",
      "execution_count": 224,
      "metadata": {
        "id": "PFKTx5O3HpEN"
      },
      "outputs": [],
      "source": [
        "for _ in range(epoches):\n",
        "  y_pred = w *  X + b\n",
        "  dw =  (-2/len(X))* (np.sum(y - y_pred)* X)\n",
        "  db = (-2/len(X)) * (np.sum(y-y_pred))\n",
        "  w = w - (lr*dw)\n",
        "  b =  b- (lr * db)\n",
        "\n"
      ]
    },
    {
      "cell_type": "code",
      "execution_count": 270,
      "metadata": {
        "id": "dtIK7ghNHt6H"
      },
      "outputs": [],
      "source": []
    },
    {
      "cell_type": "code",
      "execution_count": 261,
      "metadata": {
        "id": "Ln-xWgCMHt8b"
      },
      "outputs": [],
      "source": [
        "\n"
      ]
    },
    {
      "cell_type": "code",
      "execution_count": 261,
      "metadata": {
        "id": "K_HDK1WLHt-_"
      },
      "outputs": [],
      "source": [
        "\n"
      ]
    },
    {
      "cell_type": "code",
      "execution_count": null,
      "metadata": {
        "id": "UFJSKaeZHuCW"
      },
      "outputs": [],
      "source": []
    },
    {
      "cell_type": "markdown",
      "metadata": {
        "id": "pSATIQYRHuqH"
      },
      "source": [
        "ARRAY ATTRIBUTES"
      ]
    },
    {
      "cell_type": "code",
      "execution_count": null,
      "metadata": {
        "colab": {
          "base_uri": "https://localhost:8080/"
        },
        "id": "B6IZRZOvHwNL",
        "outputId": "cb308244-a3ad-46d5-d7b8-caf6fb6c77d3"
      },
      "outputs": [
        {
          "name": "stdout",
          "output_type": "stream",
          "text": [
            "(2, 2)\n",
            "4\n",
            "2\n"
          ]
        }
      ],
      "source": [
        "arr = np.array([[2,4],[8,9]])\n",
        "print(arr.shape)\n",
        "print(arr.size)\n",
        "print(arr.ndim)"
      ]
    },
    {
      "cell_type": "markdown",
      "metadata": {
        "id": "S_yxfcSWJQhQ"
      },
      "source": [
        "  Task-1"
      ]
    },
    {
      "cell_type": "code",
      "execution_count": null,
      "metadata": {
        "id": "z2rBR2b0H8Tm"
      },
      "outputs": [],
      "source": [
        "temp_data = np.array([[22,25,20],[24,26,23]])"
      ]
    },
    {
      "cell_type": "code",
      "execution_count": null,
      "metadata": {
        "colab": {
          "base_uri": "https://localhost:8080/"
        },
        "id": "mauVMI9lJhjg",
        "outputId": "f9ad9d34-eeed-4e1f-9152-1051a23fc270"
      },
      "outputs": [
        {
          "name": "stdout",
          "output_type": "stream",
          "text": [
            "[[22 25 20]\n",
            " [24 26 23]]\n"
          ]
        }
      ],
      "source": [
        "print(temp_data)"
      ]
    },
    {
      "cell_type": "markdown",
      "metadata": {
        "id": "5yDJ7MwYJrVE"
      },
      "source": [
        "array properties"
      ]
    },
    {
      "cell_type": "code",
      "execution_count": null,
      "metadata": {
        "colab": {
          "base_uri": "https://localhost:8080/"
        },
        "id": "zTp-kejFJoFr",
        "outputId": "c7b0dd9c-0546-48f7-d9c3-43b2f58b7f0b"
      },
      "outputs": [
        {
          "name": "stdout",
          "output_type": "stream",
          "text": [
            "2\n",
            "(2, 3)\n",
            "6\n",
            "int64\n"
          ]
        }
      ],
      "source": [
        "print(temp_data.ndim)\n",
        "print(temp_data.shape)\n",
        "print(temp_data.size)\n",
        "print(temp_data.dtype)"
      ]
    },
    {
      "cell_type": "code",
      "execution_count": null,
      "metadata": {
        "id": "d59FZWVUJ4nD"
      },
      "outputs": [],
      "source": [
        "GH3 = np.array([21,23,22])"
      ]
    },
    {
      "cell_type": "code",
      "execution_count": null,
      "metadata": {
        "id": "sVdaTnkKKANE"
      },
      "outputs": [],
      "source": []
    },
    {
      "cell_type": "code",
      "execution_count": null,
      "metadata": {
        "id": "ksjwYfDgKYtM"
      },
      "outputs": [],
      "source": [
        "temp_data = np.vstack([temp_data,GH3])"
      ]
    },
    {
      "cell_type": "code",
      "execution_count": null,
      "metadata": {
        "colab": {
          "base_uri": "https://localhost:8080/"
        },
        "id": "C5P0iMfVKawD",
        "outputId": "bd1d58fd-9f26-4dcc-ce4c-be677bf3852b"
      },
      "outputs": [
        {
          "name": "stdout",
          "output_type": "stream",
          "text": [
            "[[22 25 20]\n",
            " [24 26 23]\n",
            " [21 23 22]]\n"
          ]
        }
      ],
      "source": [
        "print(temp_data)"
      ]
    },
    {
      "cell_type": "code",
      "execution_count": null,
      "metadata": {
        "id": "VyagFR4MLDVv"
      },
      "outputs": [],
      "source": [
        "sensor_error_flag = np.zeros((2,3))"
      ]
    },
    {
      "cell_type": "code",
      "execution_count": null,
      "metadata": {
        "id": "G8jy-7FJLNZD"
      },
      "outputs": [],
      "source": [
        "greenhouse_identity = np.eye(3)"
      ]
    },
    {
      "cell_type": "code",
      "execution_count": null,
      "metadata": {
        "colab": {
          "base_uri": "https://localhost:8080/"
        },
        "id": "oFh2lc0ELR3p",
        "outputId": "6128dde2-70ea-4394-c191-93a7b0f2b0f1"
      },
      "outputs": [
        {
          "name": "stdout",
          "output_type": "stream",
          "text": [
            "[[22 25 20]\n",
            " [24 26 23]\n",
            " [21 23 22]]\n",
            "[[0. 0. 0.]\n",
            " [0. 0. 0.]]\n",
            "[[1. 0. 0.]\n",
            " [0. 1. 0.]\n",
            " [0. 0. 1.]]\n"
          ]
        }
      ],
      "source": [
        "print(temp_data)\n",
        "print(sensor_error_flag)\n",
        "print(greenhouse_identity)"
      ]
    },
    {
      "cell_type": "code",
      "execution_count": 168,
      "metadata": {
        "id": "4at85RvrLflE"
      },
      "outputs": [],
      "source": [
        "a = [[10,12,11],[9,11,10],[12,13,14],[8,7,9]]"
      ]
    },
    {
      "cell_type": "code",
      "source": [
        "b = [[20,21,19],[18,20,19],[23,22,21],[12,11,13]]"
      ],
      "metadata": {
        "id": "Sj1d8f_bvO96"
      },
      "execution_count": 169,
      "outputs": []
    },
    {
      "cell_type": "code",
      "source": [
        "c = [[15,16,14],[14,13,15],[16,17,18],[12,11,13]]"
      ],
      "metadata": {
        "id": "iWMi70Drvbs1"
      },
      "execution_count": 171,
      "outputs": []
    },
    {
      "cell_type": "code",
      "source": [
        "np.exp(a)\n",
        "np.exp(b)\n",
        "np.exp(c)"
      ],
      "metadata": {
        "colab": {
          "base_uri": "https://localhost:8080/"
        },
        "id": "DweXl3GVvuY_",
        "outputId": "96befcda-525a-4660-dccc-4ce5b57d20c5"
      },
      "execution_count": 172,
      "outputs": [
        {
          "output_type": "execute_result",
          "data": {
            "text/plain": [
              "array([[3.26901737e+06, 8.88611052e+06, 1.20260428e+06],\n",
              "       [1.20260428e+06, 4.42413392e+05, 3.26901737e+06],\n",
              "       [8.88611052e+06, 2.41549528e+07, 6.56599691e+07],\n",
              "       [1.62754791e+05, 5.98741417e+04, 4.42413392e+05]])"
            ]
          },
          "metadata": {},
          "execution_count": 172
        }
      ]
    },
    {
      "cell_type": "code",
      "source": [
        "np.expm1(a)\n",
        "np.expm1(b)\n",
        "np.expm1(c)"
      ],
      "metadata": {
        "colab": {
          "base_uri": "https://localhost:8080/"
        },
        "id": "Ui-ttg3Iv3FY",
        "outputId": "a0f95c8e-e767-4347-c7f4-a6f3a0cf6712"
      },
      "execution_count": 173,
      "outputs": [
        {
          "output_type": "execute_result",
          "data": {
            "text/plain": [
              "array([[3.26901637e+06, 8.88610952e+06, 1.20260328e+06],\n",
              "       [1.20260328e+06, 4.42412392e+05, 3.26901637e+06],\n",
              "       [8.88610952e+06, 2.41549518e+07, 6.56599681e+07],\n",
              "       [1.62753791e+05, 5.98731417e+04, 4.42412392e+05]])"
            ]
          },
          "metadata": {},
          "execution_count": 173
        }
      ]
    },
    {
      "cell_type": "code",
      "source": [
        "np.log(a)\n",
        "np.log(b)\n",
        "np.log(c)"
      ],
      "metadata": {
        "colab": {
          "base_uri": "https://localhost:8080/"
        },
        "id": "h60Rsl1-wBal",
        "outputId": "48510db7-c599-44d6-98ce-e6532e9cd5c6"
      },
      "execution_count": 174,
      "outputs": [
        {
          "output_type": "execute_result",
          "data": {
            "text/plain": [
              "array([[2.7080502 , 2.77258872, 2.63905733],\n",
              "       [2.63905733, 2.56494936, 2.7080502 ],\n",
              "       [2.77258872, 2.83321334, 2.89037176],\n",
              "       [2.48490665, 2.39789527, 2.56494936]])"
            ]
          },
          "metadata": {},
          "execution_count": 174
        }
      ]
    },
    {
      "cell_type": "code",
      "source": [
        "np.log2(a)\n",
        "np.log2(b)\n",
        "np.log2(c)"
      ],
      "metadata": {
        "colab": {
          "base_uri": "https://localhost:8080/"
        },
        "id": "RycR_ohVwH_X",
        "outputId": "c4839908-3fef-419d-c321-e337c7f492d9"
      },
      "execution_count": 175,
      "outputs": [
        {
          "output_type": "execute_result",
          "data": {
            "text/plain": [
              "array([[3.9068906 , 4.        , 3.80735492],\n",
              "       [3.80735492, 3.70043972, 3.9068906 ],\n",
              "       [4.        , 4.08746284, 4.169925  ],\n",
              "       [3.5849625 , 3.45943162, 3.70043972]])"
            ]
          },
          "metadata": {},
          "execution_count": 175
        }
      ]
    },
    {
      "cell_type": "code",
      "source": [
        "np.log10(a)\n",
        "np.log10(b)\n",
        "np.log10(c)"
      ],
      "metadata": {
        "colab": {
          "base_uri": "https://localhost:8080/"
        },
        "id": "XBIZN9UEwMJX",
        "outputId": "8ecbdf4a-e026-4719-aa54-c230962889ed"
      },
      "execution_count": 176,
      "outputs": [
        {
          "output_type": "execute_result",
          "data": {
            "text/plain": [
              "array([[1.17609126, 1.20411998, 1.14612804],\n",
              "       [1.14612804, 1.11394335, 1.17609126],\n",
              "       [1.20411998, 1.23044892, 1.25527251],\n",
              "       [1.07918125, 1.04139269, 1.11394335]])"
            ]
          },
          "metadata": {},
          "execution_count": 176
        }
      ]
    },
    {
      "cell_type": "code",
      "source": [
        "np.sin(a)\n",
        "np.sin(b)\n",
        "np.sin(c)"
      ],
      "metadata": {
        "colab": {
          "base_uri": "https://localhost:8080/"
        },
        "id": "kH60ZdNuwOqb",
        "outputId": "48740033-0dfe-45e0-9de6-860d9e4f654e"
      },
      "execution_count": 177,
      "outputs": [
        {
          "output_type": "execute_result",
          "data": {
            "text/plain": [
              "array([[ 0.65028784, -0.28790332,  0.99060736],\n",
              "       [ 0.99060736,  0.42016704,  0.65028784],\n",
              "       [-0.28790332, -0.96139749, -0.75098725],\n",
              "       [-0.53657292, -0.99999021,  0.42016704]])"
            ]
          },
          "metadata": {},
          "execution_count": 177
        }
      ]
    },
    {
      "cell_type": "code",
      "source": [
        "np.cos(a)\n",
        "np.cos(b)\n",
        "np.cos(c)"
      ],
      "metadata": {
        "colab": {
          "base_uri": "https://localhost:8080/"
        },
        "id": "M6z9lyoVwXhQ",
        "outputId": "b0e46a37-705c-4997-e2a8-fe9f125bb097"
      },
      "execution_count": 178,
      "outputs": [
        {
          "output_type": "execute_result",
          "data": {
            "text/plain": [
              "array([[-0.75968791, -0.95765948,  0.13673722],\n",
              "       [ 0.13673722,  0.90744678, -0.75968791],\n",
              "       [-0.95765948, -0.27516334,  0.66031671],\n",
              "       [ 0.84385396,  0.0044257 ,  0.90744678]])"
            ]
          },
          "metadata": {},
          "execution_count": 178
        }
      ]
    },
    {
      "cell_type": "code",
      "source": [
        "np.degrees(a)\n",
        "np.degrees(b)\n",
        "np.degrees(c)"
      ],
      "metadata": {
        "colab": {
          "base_uri": "https://localhost:8080/"
        },
        "id": "1g-OsGjUwbWl",
        "outputId": "99de2fc1-8bab-43ec-c771-38a1d0aa144b"
      },
      "execution_count": 179,
      "outputs": [
        {
          "output_type": "execute_result",
          "data": {
            "text/plain": [
              "array([[ 859.4366927 ,  916.73247221,  802.14091318],\n",
              "       [ 802.14091318,  744.84513367,  859.4366927 ],\n",
              "       [ 916.73247221,  974.02825172, 1031.32403124],\n",
              "       [ 687.54935416,  630.25357464,  744.84513367]])"
            ]
          },
          "metadata": {},
          "execution_count": 179
        }
      ]
    },
    {
      "cell_type": "code",
      "source": [
        "np.radians(a)\n",
        "np.radians(b)\n",
        "np.radians(c)"
      ],
      "metadata": {
        "colab": {
          "base_uri": "https://localhost:8080/"
        },
        "id": "jq4Nz7gkwiT-",
        "outputId": "b7cd3723-8b04-489b-9b73-ad198294478d"
      },
      "execution_count": 180,
      "outputs": [
        {
          "output_type": "execute_result",
          "data": {
            "text/plain": [
              "array([[0.26179939, 0.27925268, 0.2443461 ],\n",
              "       [0.2443461 , 0.2268928 , 0.26179939],\n",
              "       [0.27925268, 0.29670597, 0.31415927],\n",
              "       [0.20943951, 0.19198622, 0.2268928 ]])"
            ]
          },
          "metadata": {},
          "execution_count": 180
        }
      ]
    },
    {
      "cell_type": "code",
      "source": [
        "np.round(a)\n",
        "np.round(b)\n",
        "np.round(c)"
      ],
      "metadata": {
        "colab": {
          "base_uri": "https://localhost:8080/"
        },
        "id": "JBGXvJnRwm5G",
        "outputId": "e5ae6cd2-4a10-4cfd-cf4d-969fcc4f2185"
      },
      "execution_count": 181,
      "outputs": [
        {
          "output_type": "execute_result",
          "data": {
            "text/plain": [
              "array([[15, 16, 14],\n",
              "       [14, 13, 15],\n",
              "       [16, 17, 18],\n",
              "       [12, 11, 13]])"
            ]
          },
          "metadata": {},
          "execution_count": 181
        }
      ]
    },
    {
      "cell_type": "code",
      "source": [
        "np.floor(a)\n",
        "np.floor(b)\n",
        "np.floor(c)"
      ],
      "metadata": {
        "colab": {
          "base_uri": "https://localhost:8080/"
        },
        "id": "hDXZvMPswzAr",
        "outputId": "9647b616-f2ec-4085-8df9-1ed6eba0cc37"
      },
      "execution_count": 182,
      "outputs": [
        {
          "output_type": "execute_result",
          "data": {
            "text/plain": [
              "array([[15., 16., 14.],\n",
              "       [14., 13., 15.],\n",
              "       [16., 17., 18.],\n",
              "       [12., 11., 13.]])"
            ]
          },
          "metadata": {},
          "execution_count": 182
        }
      ]
    },
    {
      "cell_type": "code",
      "source": [
        "np.ceil(a)\n",
        "np.ceil(b)\n",
        "np.ceil(c)"
      ],
      "metadata": {
        "colab": {
          "base_uri": "https://localhost:8080/"
        },
        "id": "frpkvie3w27o",
        "outputId": "3e66224e-338f-41d2-d449-e3e0d24a3ea3"
      },
      "execution_count": 183,
      "outputs": [
        {
          "output_type": "execute_result",
          "data": {
            "text/plain": [
              "array([[15., 16., 14.],\n",
              "       [14., 13., 15.],\n",
              "       [16., 17., 18.],\n",
              "       [12., 11., 13.]])"
            ]
          },
          "metadata": {},
          "execution_count": 183
        }
      ]
    },
    {
      "cell_type": "code",
      "source": [
        "production_all = np.vstack(a)"
      ],
      "metadata": {
        "id": "Qi4833sXw6Wq"
      },
      "execution_count": 184,
      "outputs": []
    },
    {
      "cell_type": "code",
      "source": [
        "production_all = np.vstack(b)\n",
        "production_all = np.vstack(c)"
      ],
      "metadata": {
        "id": "Rt9YkZYyxFY4"
      },
      "execution_count": 185,
      "outputs": []
    },
    {
      "cell_type": "code",
      "source": [
        "high_output = production_all > 20"
      ],
      "metadata": {
        "id": "XdDjqyEKxI3c"
      },
      "execution_count": 186,
      "outputs": []
    },
    {
      "cell_type": "code",
      "source": [
        "a_log_and = np.logical_and(a,b)"
      ],
      "metadata": {
        "id": "OJU4AsvfxN9v"
      },
      "execution_count": 188,
      "outputs": []
    },
    {
      "cell_type": "code",
      "source": [
        "sum = np.sum(production_all)"
      ],
      "metadata": {
        "id": "JeVpoJ2bxV5i"
      },
      "execution_count": 189,
      "outputs": []
    },
    {
      "cell_type": "code",
      "source": [
        "print(sum)"
      ],
      "metadata": {
        "colab": {
          "base_uri": "https://localhost:8080/"
        },
        "id": "cSsk5l0PxwSd",
        "outputId": "a1a289da-74e6-4a6a-deb1-f6d0a113a612"
      },
      "execution_count": 190,
      "outputs": [
        {
          "output_type": "stream",
          "name": "stdout",
          "text": [
            "174\n"
          ]
        }
      ]
    },
    {
      "cell_type": "code",
      "source": [
        "avg_vector = [np.mean(a),np.mean(b),np.mean(c)]"
      ],
      "metadata": {
        "id": "GvnfJu4exxp_"
      },
      "execution_count": 191,
      "outputs": []
    },
    {
      "cell_type": "code",
      "source": [
        "peak_max =  [np.max(a),np.max(b),np.max(c)]"
      ],
      "metadata": {
        "id": "fS4qbFavx-VF"
      },
      "execution_count": 192,
      "outputs": []
    },
    {
      "cell_type": "code",
      "source": [
        "peak_max_arg = [np.argmax(a),np.argmax(b),np.argmax(c)]"
      ],
      "metadata": {
        "id": "rlle-WcXyLEa"
      },
      "execution_count": 193,
      "outputs": []
    },
    {
      "cell_type": "code",
      "source": [
        "a_vec = [np.sum(a[0]),np.sum(a[1]),np.sum(a[2])]"
      ],
      "metadata": {
        "id": "VRv346-1yQoZ"
      },
      "execution_count": 194,
      "outputs": []
    },
    {
      "cell_type": "code",
      "source": [
        "b_vec = [np.sum(b[0]),np.sum(b[1]),np.sum(b[2])]"
      ],
      "metadata": {
        "id": "DF5j4U7Ey4v-"
      },
      "execution_count": 195,
      "outputs": []
    },
    {
      "cell_type": "code",
      "source": [
        "c_vec = [np.sum(c[0]),np.sum(c[1]),np.sum(c[2])]"
      ],
      "metadata": {
        "id": "tw5_vr53y-F-"
      },
      "execution_count": 196,
      "outputs": []
    },
    {
      "cell_type": "code",
      "source": [
        "for i in a_vec:\n",
        "  if i <40:\n",
        "    print(\"true\")\n",
        "    break\n",
        "\n"
      ],
      "metadata": {
        "colab": {
          "base_uri": "https://localhost:8080/"
        },
        "id": "HClk5qhxzDcq",
        "outputId": "8850f1d9-6ac9-4925-90cb-1a1f12de4cfe"
      },
      "execution_count": 202,
      "outputs": [
        {
          "output_type": "stream",
          "name": "stdout",
          "text": [
            "true\n"
          ]
        }
      ]
    },
    {
      "cell_type": "code",
      "source": [
        "for i in b_vec:\n",
        "  if i <40:\n",
        "    print(\"true\")\n",
        "    break"
      ],
      "metadata": {
        "id": "Njfmu-AKzWwT"
      },
      "execution_count": 203,
      "outputs": []
    },
    {
      "cell_type": "code",
      "source": [
        "for i in c_vec:\n",
        "  if i <40:\n",
        "    print(\"true\")\n",
        "    break"
      ],
      "metadata": {
        "id": "PrhrOsW9z0_y"
      },
      "execution_count": 205,
      "outputs": []
    },
    {
      "cell_type": "code",
      "source": [
        "np.add(a,b)"
      ],
      "metadata": {
        "colab": {
          "base_uri": "https://localhost:8080/"
        },
        "id": "Vnrs3v1Jz3FI",
        "outputId": "96722a19-241e-4ae6-aa17-4bc8a787424a"
      },
      "execution_count": 206,
      "outputs": [
        {
          "output_type": "execute_result",
          "data": {
            "text/plain": [
              "array([[30, 33, 30],\n",
              "       [27, 31, 29],\n",
              "       [35, 35, 35],\n",
              "       [20, 18, 22]])"
            ]
          },
          "metadata": {},
          "execution_count": 206
        }
      ]
    },
    {
      "cell_type": "code",
      "source": [
        "np.subtract(a,b)"
      ],
      "metadata": {
        "colab": {
          "base_uri": "https://localhost:8080/"
        },
        "id": "SOnFtkXK0B8p",
        "outputId": "a3ceacd6-1553-4874-e48f-874c070ca08f"
      },
      "execution_count": 207,
      "outputs": [
        {
          "output_type": "execute_result",
          "data": {
            "text/plain": [
              "array([[-10,  -9,  -8],\n",
              "       [ -9,  -9,  -9],\n",
              "       [-11,  -9,  -7],\n",
              "       [ -4,  -4,  -4]])"
            ]
          },
          "metadata": {},
          "execution_count": 207
        }
      ]
    },
    {
      "cell_type": "code",
      "source": [
        "alerts = np.array([[1,0,1],[0,0,1],[1,1,0],[0,1,0]])"
      ],
      "metadata": {
        "id": "mUgp8bBN0DI5"
      },
      "execution_count": 208,
      "outputs": []
    },
    {
      "cell_type": "code",
      "source": [
        "np.bitwise_and(alerts,a)"
      ],
      "metadata": {
        "colab": {
          "base_uri": "https://localhost:8080/"
        },
        "id": "aGeTF1VO0O80",
        "outputId": "b2e45669-7c61-4867-d1c6-3868bf5aab80"
      },
      "execution_count": 209,
      "outputs": [
        {
          "output_type": "execute_result",
          "data": {
            "text/plain": [
              "array([[0, 0, 1],\n",
              "       [0, 0, 0],\n",
              "       [0, 1, 0],\n",
              "       [0, 1, 0]])"
            ]
          },
          "metadata": {},
          "execution_count": 209
        }
      ]
    },
    {
      "cell_type": "code",
      "source": [
        "np.bitwise_and(alerts,b)"
      ],
      "metadata": {
        "colab": {
          "base_uri": "https://localhost:8080/"
        },
        "id": "0tsHB9TT0WLK",
        "outputId": "10ef65f8-bf84-46b4-e996-bb1af40dbe0d"
      },
      "execution_count": 210,
      "outputs": [
        {
          "output_type": "execute_result",
          "data": {
            "text/plain": [
              "array([[0, 0, 1],\n",
              "       [0, 0, 1],\n",
              "       [1, 0, 0],\n",
              "       [0, 1, 0]])"
            ]
          },
          "metadata": {},
          "execution_count": 210
        }
      ]
    },
    {
      "cell_type": "code",
      "source": [
        "np.bitwise_and(alerts,c)"
      ],
      "metadata": {
        "colab": {
          "base_uri": "https://localhost:8080/"
        },
        "id": "BGMr6y3k0Z76",
        "outputId": "a86bf82f-d162-4dc1-c26d-116374722cdd"
      },
      "execution_count": 211,
      "outputs": [
        {
          "output_type": "execute_result",
          "data": {
            "text/plain": [
              "array([[1, 0, 0],\n",
              "       [0, 0, 1],\n",
              "       [0, 1, 0],\n",
              "       [0, 1, 0]])"
            ]
          },
          "metadata": {},
          "execution_count": 211
        }
      ]
    },
    {
      "cell_type": "code",
      "source": [
        "np.invert(a)"
      ],
      "metadata": {
        "colab": {
          "base_uri": "https://localhost:8080/"
        },
        "id": "r0dg7viD0byP",
        "outputId": "7c99dc57-f93b-49e8-e90d-f146d1217af0"
      },
      "execution_count": 213,
      "outputs": [
        {
          "output_type": "execute_result",
          "data": {
            "text/plain": [
              "array([[-11, -13, -12],\n",
              "       [-10, -12, -11],\n",
              "       [-13, -14, -15],\n",
              "       [ -9,  -8, -10]])"
            ]
          },
          "metadata": {},
          "execution_count": 213
        }
      ]
    },
    {
      "cell_type": "code",
      "source": [
        "np.invert(b)"
      ],
      "metadata": {
        "colab": {
          "base_uri": "https://localhost:8080/"
        },
        "id": "tyKpG7hZ0j60",
        "outputId": "e1ceb6c9-3df8-4e03-91d8-d6e6dd2595f3"
      },
      "execution_count": 214,
      "outputs": [
        {
          "output_type": "execute_result",
          "data": {
            "text/plain": [
              "array([[-21, -22, -20],\n",
              "       [-19, -21, -20],\n",
              "       [-24, -23, -22],\n",
              "       [-13, -12, -14]])"
            ]
          },
          "metadata": {},
          "execution_count": 214
        }
      ]
    },
    {
      "cell_type": "code",
      "source": [
        "np.invert(c)"
      ],
      "metadata": {
        "colab": {
          "base_uri": "https://localhost:8080/"
        },
        "id": "lGhtVsSZ0rU6",
        "outputId": "e9214855-f5a6-4dee-e107-24f95b932577"
      },
      "execution_count": 215,
      "outputs": [
        {
          "output_type": "execute_result",
          "data": {
            "text/plain": [
              "array([[-16, -17, -15],\n",
              "       [-15, -14, -16],\n",
              "       [-17, -18, -19],\n",
              "       [-13, -12, -14]])"
            ]
          },
          "metadata": {},
          "execution_count": 215
        }
      ]
    },
    {
      "cell_type": "code",
      "source": [
        "arr = np.array([1,2,3,4,5,6,7,8,9])\n",
        "print(arr.reshape(3,3))"
      ],
      "metadata": {
        "colab": {
          "base_uri": "https://localhost:8080/"
        },
        "id": "6QJ2rE8g0toa",
        "outputId": "89aba7c9-e744-4c7c-e0e5-4cf6f47bfb05"
      },
      "execution_count": 232,
      "outputs": [
        {
          "output_type": "stream",
          "name": "stdout",
          "text": [
            "[[1 2 3]\n",
            " [4 5 6]\n",
            " [7 8 9]]\n"
          ]
        }
      ]
    },
    {
      "cell_type": "markdown",
      "source": [
        "Stacking and splitting"
      ],
      "metadata": {
        "id": "IeFTrfS42eWF"
      }
    },
    {
      "cell_type": "code",
      "source": [
        "a = np.array([[1,2],[3,4]])\n",
        "b = np.array([[5,6],[7,8]])"
      ],
      "metadata": {
        "id": "nqFVrGjr2Aei"
      },
      "execution_count": 238,
      "outputs": []
    },
    {
      "cell_type": "code",
      "source": [
        "c = [[],[]]"
      ],
      "metadata": {
        "id": "wflto_j32m1-"
      },
      "execution_count": 249,
      "outputs": []
    },
    {
      "cell_type": "code",
      "source": [
        "c = np.vstack([a,b])"
      ],
      "metadata": {
        "id": "wJAcblfJ2xkR"
      },
      "execution_count": 250,
      "outputs": []
    },
    {
      "cell_type": "code",
      "source": [
        "c"
      ],
      "metadata": {
        "colab": {
          "base_uri": "https://localhost:8080/"
        },
        "id": "sGMwyt6s2yDF",
        "outputId": "926184c7-ffe2-479d-97b5-6ffeff3be2fa"
      },
      "execution_count": 251,
      "outputs": [
        {
          "output_type": "execute_result",
          "data": {
            "text/plain": [
              "array([[1, 2],\n",
              "       [3, 4],\n",
              "       [5, 6],\n",
              "       [7, 8]])"
            ]
          },
          "metadata": {},
          "execution_count": 251
        }
      ]
    },
    {
      "cell_type": "code",
      "source": [
        "d = np.hstack([a,b])"
      ],
      "metadata": {
        "id": "qO7lLFO82_ic"
      },
      "execution_count": 252,
      "outputs": []
    },
    {
      "cell_type": "code",
      "source": [
        "d"
      ],
      "metadata": {
        "colab": {
          "base_uri": "https://localhost:8080/"
        },
        "id": "5rVrAbt73AW9",
        "outputId": "2282a97d-fc8e-4c59-f10d-4f7a34fcf95a"
      },
      "execution_count": 253,
      "outputs": [
        {
          "output_type": "execute_result",
          "data": {
            "text/plain": [
              "array([[1, 2, 5, 6],\n",
              "       [3, 4, 7, 8]])"
            ]
          },
          "metadata": {},
          "execution_count": 253
        }
      ]
    },
    {
      "cell_type": "code",
      "source": [
        "c = np.split(arr,3)\n",
        "print(c)"
      ],
      "metadata": {
        "colab": {
          "base_uri": "https://localhost:8080/"
        },
        "id": "TnsICCbI3bxP",
        "outputId": "fb9411c6-c975-47d7-ffe5-2a415c379586"
      },
      "execution_count": 254,
      "outputs": [
        {
          "output_type": "stream",
          "name": "stdout",
          "text": [
            "[array([1, 2, 3]), array([4, 5, 6]), array([7, 8, 9])]\n"
          ]
        }
      ]
    },
    {
      "cell_type": "code",
      "source": [
        "print(arr[arr > 3])"
      ],
      "metadata": {
        "colab": {
          "base_uri": "https://localhost:8080/"
        },
        "id": "tDSpWHBk3pad",
        "outputId": "05686024-c5ad-4184-c5cc-c157dfe57b6a"
      },
      "execution_count": 258,
      "outputs": [
        {
          "output_type": "stream",
          "name": "stdout",
          "text": [
            "[4 5 6 7 8 9]\n"
          ]
        }
      ]
    },
    {
      "cell_type": "code",
      "source": [
        "#fancy indexing\n",
        "indices = [0,2]\n",
        "print(arr[indices])"
      ],
      "metadata": {
        "colab": {
          "base_uri": "https://localhost:8080/"
        },
        "id": "-ak3yd2Y45ID",
        "outputId": "c51e96ff-ee21-4164-be5f-dc6ee3127cb3"
      },
      "execution_count": 259,
      "outputs": [
        {
          "output_type": "stream",
          "name": "stdout",
          "text": [
            "[1 3]\n"
          ]
        }
      ]
    },
    {
      "cell_type": "code",
      "source": [
        "#copy and view\n",
        "arr = np.array([1,2,3,4])\n",
        "arr_view = arr.view()\n",
        "print(arr_view) #view shares same memory\n",
        "arr_view[0] = 10\n",
        "print(arr_view)"
      ],
      "metadata": {
        "colab": {
          "base_uri": "https://localhost:8080/"
        },
        "id": "HrtDyM8k5DIx",
        "outputId": "7a56a3ff-2751-4b6a-8625-469bfb4cd96a"
      },
      "execution_count": 264,
      "outputs": [
        {
          "output_type": "stream",
          "name": "stdout",
          "text": [
            "[1 2 3 4]\n",
            "[10  2  3  4]\n"
          ]
        }
      ]
    },
    {
      "cell_type": "code",
      "source": [
        "arr2 = np.array([1,2,3,4])\n",
        "arr_copy = arr2.copy()\n",
        "print(arr_copy)\n",
        "arr_copy[0] = 10\n",
        "print(arr2)"
      ],
      "metadata": {
        "colab": {
          "base_uri": "https://localhost:8080/"
        },
        "id": "LOI8RviK6Bnh",
        "outputId": "2bb92789-2c47-49f7-8d7b-c934bdeae2f1"
      },
      "execution_count": 266,
      "outputs": [
        {
          "output_type": "stream",
          "name": "stdout",
          "text": [
            "[1 2 3 4]\n",
            "[1 2 3 4]\n"
          ]
        }
      ]
    },
    {
      "cell_type": "markdown",
      "source": [
        "Saving the file"
      ],
      "metadata": {
        "id": "rgPJqc8265D2"
      }
    },
    {
      "cell_type": "code",
      "source": [
        "arr = np.array([1,2,3])\n",
        "np.save(\"array.npy\",arr)"
      ],
      "metadata": {
        "id": "rWlHDtdi6Wtq"
      },
      "execution_count": 267,
      "outputs": []
    },
    {
      "cell_type": "markdown",
      "source": [
        "Loading the file"
      ],
      "metadata": {
        "id": "GGfjtDVs7G_V"
      }
    },
    {
      "cell_type": "code",
      "source": [
        "loaded_data = np.load('array.npy')"
      ],
      "metadata": {
        "id": "WtirEOv37D5L"
      },
      "execution_count": 268,
      "outputs": []
    },
    {
      "cell_type": "code",
      "source": [
        "print(loaded_data)"
      ],
      "metadata": {
        "colab": {
          "base_uri": "https://localhost:8080/"
        },
        "id": "YkjsjCto7Nmf",
        "outputId": "ef837c26-962b-42c7-c7b4-98d3e5805022"
      },
      "execution_count": 269,
      "outputs": [
        {
          "output_type": "stream",
          "name": "stdout",
          "text": [
            "[1 2 3]\n"
          ]
        }
      ]
    },
    {
      "cell_type": "markdown",
      "source": [
        "Create a 1D array of numbers from 10 to 50.\n",
        "Create a 3x3 array of random numbers between 0 and 1.\n",
        "Array Attributes\n",
        "Find the shape, size, and data type of the array you created in the previous task.\n",
        "Basic Operations\n",
        "Add 5 to every element of a 1D array.\n",
        "Multiply two 2D arrays element-wise.\n",
        "Indexing and Slicing\n",
        "Create a 5x5 array of integers from 1 to 25. Extract:\n",
        "The first row.\n",
        "The last column.\n",
        "A subarray of the first three rows and first two columns.\n",
        "Aggregation\n",
        "Create a 10-element array of random integers between 10 and 100. Find:\n",
        "The maximum value.\n",
        "The minimum value.\n",
        "The mean and standard deviation.\n",
        "Reshaping\n",
        "Convert a 1D array of numbers from 1 to 12 into a 3x4 matrix.\n",
        "Broadcasting\n",
        "Create a 3x3 matrix of ones. Add a 1D array [1, 2, 3] to each row.\n",
        "Filtering\n",
        "Create a 1D array of random integers between 1 and 50. Extract all elements that are divisible by 5.\n",
        "Matrix Multiplication\n",
        "Create two 2x2 matrices and perform matrix multiplication.\n",
        "Advanced Indexing\n",
        "Given a 4x4 array, use fancy indexing to extract the diagonal elements."
      ],
      "metadata": {
        "id": "_Ohx1cLd8Gz_"
      }
    },
    {
      "cell_type": "code",
      "source": [
        "#Create a 1D array of numbers from 10 to 50\n",
        "arr1 = np.linspace(1,50,dtype='int')\n"
      ],
      "metadata": {
        "id": "S9ecHUnX7O1g"
      },
      "execution_count": 274,
      "outputs": []
    },
    {
      "cell_type": "code",
      "source": [
        "arr1"
      ],
      "metadata": {
        "colab": {
          "base_uri": "https://localhost:8080/"
        },
        "id": "oZ2UVkth8QuY",
        "outputId": "7c703d1a-bb2c-4414-e614-deb335d26e96"
      },
      "execution_count": 275,
      "outputs": [
        {
          "output_type": "execute_result",
          "data": {
            "text/plain": [
              "array([ 1,  2,  3,  4,  5,  6,  7,  8,  9, 10, 11, 12, 13, 14, 15, 16, 17,\n",
              "       18, 19, 20, 21, 22, 23, 24, 25, 26, 27, 28, 29, 30, 31, 32, 33, 34,\n",
              "       35, 36, 37, 38, 39, 40, 41, 42, 43, 44, 45, 46, 47, 48, 49, 50])"
            ]
          },
          "metadata": {},
          "execution_count": 275
        }
      ]
    },
    {
      "cell_type": "markdown",
      "source": [
        "Create a 3x3 array of random numbers between 0 and 1"
      ],
      "metadata": {
        "id": "UmA4DTan8YKi"
      }
    },
    {
      "cell_type": "code",
      "source": [
        "a = np.random.rand(9)"
      ],
      "metadata": {
        "id": "fo1igD6y8Rmb"
      },
      "execution_count": 362,
      "outputs": []
    },
    {
      "cell_type": "code",
      "source": [
        "a.reshape(3,3)"
      ],
      "metadata": {
        "colab": {
          "base_uri": "https://localhost:8080/"
        },
        "id": "gnyfPwwd8c_j",
        "outputId": "d267b322-cb3b-420a-afb4-69613fa665cd"
      },
      "execution_count": 363,
      "outputs": [
        {
          "output_type": "execute_result",
          "data": {
            "text/plain": [
              "array([[0.34974129, 0.50744666, 0.88951259],\n",
              "       [0.9850423 , 0.71772207, 0.47077789],\n",
              "       [0.03233495, 0.40765837, 0.23140052]])"
            ]
          },
          "metadata": {},
          "execution_count": 363
        }
      ]
    },
    {
      "cell_type": "markdown",
      "source": [
        " Array Attributes Find the shape, size, and data type of the array you created in the previous task."
      ],
      "metadata": {
        "id": "KDmgVpul8vC-"
      }
    },
    {
      "cell_type": "code",
      "source": [
        "print(arr1.shape)\n",
        "print(arr1.size)\n",
        "print(arr1.size)\n",
        "print(arr1.dtype)"
      ],
      "metadata": {
        "colab": {
          "base_uri": "https://localhost:8080/"
        },
        "id": "_KuwNOyn8k0A",
        "outputId": "103eb421-c619-495a-f5fd-726af2324247"
      },
      "execution_count": 283,
      "outputs": [
        {
          "output_type": "stream",
          "name": "stdout",
          "text": [
            "(50,)\n",
            "50\n",
            "50\n",
            "int64\n"
          ]
        }
      ]
    },
    {
      "cell_type": "markdown",
      "source": [
        "Add 5 to every element of a 1D array"
      ],
      "metadata": {
        "id": "lr2a5tsG89Pi"
      }
    },
    {
      "cell_type": "code",
      "source": [
        "a = a + 5"
      ],
      "metadata": {
        "id": "7zElOpDa828k"
      },
      "execution_count": 284,
      "outputs": []
    },
    {
      "cell_type": "markdown",
      "source": [
        " Multiply two 2D arrays element-wise"
      ],
      "metadata": {
        "id": "Assg6nky9ILz"
      }
    },
    {
      "cell_type": "code",
      "source": [
        "x = np.array([[1,2],[3,4]])\n",
        "y = np.array([[5,6],[7,8]])\n",
        "print(x *y)"
      ],
      "metadata": {
        "colab": {
          "base_uri": "https://localhost:8080/"
        },
        "id": "w6ZaZOdN9CsA",
        "outputId": "3afeedde-2ee6-481f-bcb1-2231068378f1"
      },
      "execution_count": 287,
      "outputs": [
        {
          "output_type": "stream",
          "name": "stdout",
          "text": [
            "[[ 5 12]\n",
            " [21 32]]\n"
          ]
        }
      ]
    },
    {
      "cell_type": "code",
      "source": [
        "print(np.dot(x,y))"
      ],
      "metadata": {
        "colab": {
          "base_uri": "https://localhost:8080/"
        },
        "id": "v-iFu-kk9Pef",
        "outputId": "898e30d1-60b9-4da6-a9af-e482a19d85bb"
      },
      "execution_count": 288,
      "outputs": [
        {
          "output_type": "stream",
          "name": "stdout",
          "text": [
            "[[19 22]\n",
            " [43 50]]\n"
          ]
        }
      ]
    },
    {
      "cell_type": "markdown",
      "source": [
        "Create a 5x5 array of integers from 1 to 25"
      ],
      "metadata": {
        "id": "J7NXy1CK9gTm"
      }
    },
    {
      "cell_type": "code",
      "source": [
        " r = np.unique(t)"
      ],
      "metadata": {
        "id": "P-U67I7C9VNU"
      },
      "execution_count": 303,
      "outputs": []
    },
    {
      "cell_type": "code",
      "source": [
        "r"
      ],
      "metadata": {
        "colab": {
          "base_uri": "https://localhost:8080/"
        },
        "id": "3i6_ZV6b9mDu",
        "outputId": "6260b07b-f0d9-450e-9e4a-0f4a9b38be97"
      },
      "execution_count": 304,
      "outputs": [
        {
          "output_type": "execute_result",
          "data": {
            "text/plain": [
              "array([ 1,  2,  3,  4,  5,  6,  7,  8,  9, 10, 11, 12, 13, 14, 15, 16, 17,\n",
              "       18, 19, 20, 21, 22, 23, 24, 25])"
            ]
          },
          "metadata": {},
          "execution_count": 304
        }
      ]
    },
    {
      "cell_type": "code",
      "source": [
        "r =r.reshape(5,5)"
      ],
      "metadata": {
        "id": "akvKgmlJ9xlg"
      },
      "execution_count": 308,
      "outputs": []
    },
    {
      "cell_type": "markdown",
      "source": [
        "extracting first row"
      ],
      "metadata": {
        "id": "LO_RfyQS-ILF"
      }
    },
    {
      "cell_type": "code",
      "source": [
        "print(r[0])"
      ],
      "metadata": {
        "colab": {
          "base_uri": "https://localhost:8080/"
        },
        "id": "lw3MKb2s96e4",
        "outputId": "e17227b6-79ba-464c-baef-9c2554634d57"
      },
      "execution_count": 309,
      "outputs": [
        {
          "output_type": "stream",
          "name": "stdout",
          "text": [
            "[1 2 3 4 5]\n"
          ]
        }
      ]
    },
    {
      "cell_type": "markdown",
      "source": [
        "Extract last column"
      ],
      "metadata": {
        "id": "XntdDdsp-Uao"
      }
    },
    {
      "cell_type": "code",
      "source": [
        "print(r[:,-1])"
      ],
      "metadata": {
        "colab": {
          "base_uri": "https://localhost:8080/"
        },
        "id": "qE_vUFOI-Kdp",
        "outputId": "f2b536c6-5505-4c66-b07b-1fd179c06589"
      },
      "execution_count": 310,
      "outputs": [
        {
          "output_type": "stream",
          "name": "stdout",
          "text": [
            "[ 5 10 15 20 25]\n"
          ]
        }
      ]
    },
    {
      "cell_type": "markdown",
      "source": [
        "A subarray of the first three rows and first two columns"
      ],
      "metadata": {
        "id": "vDZ9RlyV-gDA"
      }
    },
    {
      "cell_type": "code",
      "source": [
        "r1 = r[0:3,0:2]\n",
        "print(r1)"
      ],
      "metadata": {
        "colab": {
          "base_uri": "https://localhost:8080/"
        },
        "id": "Yyqxto0M-aUE",
        "outputId": "0185ab08-9510-478a-a53a-78445dfddc12"
      },
      "execution_count": 311,
      "outputs": [
        {
          "output_type": "stream",
          "name": "stdout",
          "text": [
            "[[ 1  2]\n",
            " [ 6  7]\n",
            " [11 12]]\n"
          ]
        }
      ]
    },
    {
      "cell_type": "markdown",
      "source": [
        "Create a 10-element array of random integers between 10 and 100"
      ],
      "metadata": {
        "id": "ktqd9GR7-uOb"
      }
    },
    {
      "cell_type": "code",
      "source": [
        "ran = np.random.randint(10,100,10)"
      ],
      "metadata": {
        "id": "6buOpgaJ-ocq"
      },
      "execution_count": 317,
      "outputs": []
    },
    {
      "cell_type": "code",
      "source": [
        "ran"
      ],
      "metadata": {
        "colab": {
          "base_uri": "https://localhost:8080/"
        },
        "id": "ROiC9BRo-1QI",
        "outputId": "3ffe84e7-940b-4bfe-ff81-9a7d24765cdb"
      },
      "execution_count": 318,
      "outputs": [
        {
          "output_type": "execute_result",
          "data": {
            "text/plain": [
              "array([95, 35, 59, 74, 66, 72, 27, 97, 77, 89])"
            ]
          },
          "metadata": {},
          "execution_count": 318
        }
      ]
    },
    {
      "cell_type": "markdown",
      "source": [
        "finding maximum and minimum element"
      ],
      "metadata": {
        "id": "ni5RU-1x_G4W"
      }
    },
    {
      "cell_type": "code",
      "source": [
        "a = np.min(ran)\n",
        "\n",
        "b = np.max(ran)\n",
        "print(a)\n",
        "print(b)"
      ],
      "metadata": {
        "colab": {
          "base_uri": "https://localhost:8080/"
        },
        "id": "AlBtYTqh-4fI",
        "outputId": "d32b863b-48ab-4194-935a-ac1ae3728bd5"
      },
      "execution_count": 320,
      "outputs": [
        {
          "output_type": "stream",
          "name": "stdout",
          "text": [
            "27\n",
            "97\n"
          ]
        }
      ]
    },
    {
      "cell_type": "markdown",
      "source": [
        "Mean and standard deviation"
      ],
      "metadata": {
        "id": "lVH7If57_Y-W"
      }
    },
    {
      "cell_type": "code",
      "source": [
        "print(np.mean(ran))\n",
        "print(np.std(ran))"
      ],
      "metadata": {
        "colab": {
          "base_uri": "https://localhost:8080/"
        },
        "id": "7bzyZcgd_O8L",
        "outputId": "972840ed-22af-4953-bc37-3532f4225a86"
      },
      "execution_count": 321,
      "outputs": [
        {
          "output_type": "stream",
          "name": "stdout",
          "text": [
            "69.1\n",
            "22.331368072735714\n"
          ]
        }
      ]
    },
    {
      "cell_type": "markdown",
      "source": [
        " Reshaping Convert a 1D array of numbers from 1 to 12 into a 3x4 matrix."
      ],
      "metadata": {
        "id": "_dOm4g-7_lbQ"
      }
    },
    {
      "cell_type": "code",
      "source": [
        "arr2 = np.linspace(1,12,dtype='int')"
      ],
      "metadata": {
        "id": "v53wkoNp_ewu"
      },
      "execution_count": 327,
      "outputs": []
    },
    {
      "cell_type": "code",
      "source": [
        "arr2"
      ],
      "metadata": {
        "colab": {
          "base_uri": "https://localhost:8080/"
        },
        "id": "JZGqnHGM_vnD",
        "outputId": "8fd4d40b-1e49-4463-88d9-2673056b3caf"
      },
      "execution_count": 328,
      "outputs": [
        {
          "output_type": "execute_result",
          "data": {
            "text/plain": [
              "array([ 1,  1,  1,  1,  1,  2,  2,  2,  2,  3,  3,  3,  3,  3,  4,  4,  4,\n",
              "        4,  5,  5,  5,  5,  5,  6,  6,  6,  6,  7,  7,  7,  7,  7,  8,  8,\n",
              "        8,  8,  9,  9,  9,  9,  9, 10, 10, 10, 10, 11, 11, 11, 11, 12])"
            ]
          },
          "metadata": {},
          "execution_count": 328
        }
      ]
    },
    {
      "cell_type": "code",
      "source": [
        "arr2 = np.unique(arr2)"
      ],
      "metadata": {
        "id": "UoPK9-pv_wNi"
      },
      "execution_count": 330,
      "outputs": []
    },
    {
      "cell_type": "code",
      "source": [
        "arr2"
      ],
      "metadata": {
        "colab": {
          "base_uri": "https://localhost:8080/"
        },
        "id": "IVeypPuq_61l",
        "outputId": "fb041463-fca8-42d3-b54e-78a4af893394"
      },
      "execution_count": 331,
      "outputs": [
        {
          "output_type": "execute_result",
          "data": {
            "text/plain": [
              "array([ 1,  2,  3,  4,  5,  6,  7,  8,  9, 10, 11, 12])"
            ]
          },
          "metadata": {},
          "execution_count": 331
        }
      ]
    },
    {
      "cell_type": "code",
      "source": [
        "arr2 = arr2.reshape(3,4)"
      ],
      "metadata": {
        "id": "zBX3EZB7_-pv"
      },
      "execution_count": 332,
      "outputs": []
    },
    {
      "cell_type": "code",
      "source": [
        "arr2"
      ],
      "metadata": {
        "colab": {
          "base_uri": "https://localhost:8080/"
        },
        "id": "ToTiyhb-ABzX",
        "outputId": "c1355521-ed65-4b33-8dd5-ab62ed4b1846"
      },
      "execution_count": 333,
      "outputs": [
        {
          "output_type": "execute_result",
          "data": {
            "text/plain": [
              "array([[ 1,  2,  3,  4],\n",
              "       [ 5,  6,  7,  8],\n",
              "       [ 9, 10, 11, 12]])"
            ]
          },
          "metadata": {},
          "execution_count": 333
        }
      ]
    },
    {
      "cell_type": "markdown",
      "source": [
        " Create a 3x3 matrix of ones"
      ],
      "metadata": {
        "id": "RMYEfhqCANA-"
      }
    },
    {
      "cell_type": "code",
      "source": [
        "identity_matrix =  np.eye(3,dtype='int')"
      ],
      "metadata": {
        "id": "3T7bGIt7AChJ"
      },
      "execution_count": 338,
      "outputs": []
    },
    {
      "cell_type": "code",
      "source": [
        "adding = (identity_matrix + [1,2,3])"
      ],
      "metadata": {
        "id": "AvOtJSTOAQbB"
      },
      "execution_count": 339,
      "outputs": []
    },
    {
      "cell_type": "code",
      "source": [
        "adding"
      ],
      "metadata": {
        "colab": {
          "base_uri": "https://localhost:8080/"
        },
        "id": "G5sxezZRAUME",
        "outputId": "44748246-2790-4c35-dd66-e03a69067571"
      },
      "execution_count": 340,
      "outputs": [
        {
          "output_type": "execute_result",
          "data": {
            "text/plain": [
              "array([[2, 2, 3],\n",
              "       [1, 3, 3],\n",
              "       [1, 2, 4]])"
            ]
          },
          "metadata": {},
          "execution_count": 340
        }
      ]
    },
    {
      "cell_type": "markdown",
      "source": [
        " Filtering Create a 1D array of random integers between 1 and 50."
      ],
      "metadata": {
        "id": "hWlkaU0OAl2N"
      }
    },
    {
      "cell_type": "code",
      "source": [
        "one_to_50 = np.random.randint(1,20,20)"
      ],
      "metadata": {
        "id": "CYkE6GRRAlRa"
      },
      "execution_count": 343,
      "outputs": []
    },
    {
      "cell_type": "code",
      "source": [
        "one_to_50"
      ],
      "metadata": {
        "colab": {
          "base_uri": "https://localhost:8080/"
        },
        "id": "BtDIOhdHAVD1",
        "outputId": "7ca99d52-bed2-4095-a38a-1213b242aeef"
      },
      "execution_count": 344,
      "outputs": [
        {
          "output_type": "execute_result",
          "data": {
            "text/plain": [
              "array([12, 17, 12,  9,  2, 16, 19, 16,  6, 10, 12, 16, 19, 12, 18, 17,  2,\n",
              "       13,  4,  9])"
            ]
          },
          "metadata": {},
          "execution_count": 344
        }
      ]
    },
    {
      "cell_type": "markdown",
      "source": [
        "divisible by 5"
      ],
      "metadata": {
        "id": "X3XeNXNMA0kM"
      }
    },
    {
      "cell_type": "code",
      "source": [
        "print(one_to_50[one_to_50 % 5 ==0])\n"
      ],
      "metadata": {
        "colab": {
          "base_uri": "https://localhost:8080/"
        },
        "id": "86MFfNBjAwzG",
        "outputId": "b49afaf5-9754-4b04-e54e-59b9cd2e0ce3"
      },
      "execution_count": 348,
      "outputs": [
        {
          "output_type": "stream",
          "name": "stdout",
          "text": [
            "[10]\n"
          ]
        }
      ]
    },
    {
      "cell_type": "markdown",
      "source": [
        "Advanced Indexing Given a 4x4 array, use fancy indexing to extract the diagonal elements."
      ],
      "metadata": {
        "id": "NZpJUkGbBK0O"
      }
    },
    {
      "cell_type": "code",
      "source": [
        "four_matrix = np.unique(np.linspace(1,16,16))\n",
        "four_matrix = four_matrix.reshape(4,4)\n"
      ],
      "metadata": {
        "id": "14wnO5CqA6BG"
      },
      "execution_count": 358,
      "outputs": []
    },
    {
      "cell_type": "code",
      "source": [
        "tup = tuple()"
      ],
      "metadata": {
        "id": "0HwpfoLqBUp7"
      },
      "execution_count": 352,
      "outputs": []
    },
    {
      "cell_type": "code",
      "source": [
        "tup = (0,1,2,3)"
      ],
      "metadata": {
        "id": "OpILtTw2BcnV"
      },
      "execution_count": 354,
      "outputs": []
    },
    {
      "cell_type": "code",
      "source": [
        "for  i in range(4):\n",
        "  for j in range(4):\n",
        "    if i ==j:\n",
        "      print(four_matrix[i][j])"
      ],
      "metadata": {
        "colab": {
          "base_uri": "https://localhost:8080/"
        },
        "id": "TadaaUPTB2yM",
        "outputId": "8e220946-c774-4231-c83a-a1f44de13599"
      },
      "execution_count": 360,
      "outputs": [
        {
          "output_type": "stream",
          "name": "stdout",
          "text": [
            "1.0\n",
            "6.0\n",
            "11.0\n",
            "16.0\n"
          ]
        }
      ]
    },
    {
      "cell_type": "code",
      "source": [],
      "metadata": {
        "id": "xMo1AXZVCJ9j"
      },
      "execution_count": null,
      "outputs": []
    }
  ],
  "metadata": {
    "colab": {
      "provenance": [],
      "authorship_tag": "ABX9TyMI6CMjq2hS71JJBEQ7/Icx",
      "include_colab_link": true
    },
    "kernelspec": {
      "display_name": "Python 3",
      "name": "python3"
    },
    "language_info": {
      "name": "python"
    }
  },
  "nbformat": 4,
  "nbformat_minor": 0
}